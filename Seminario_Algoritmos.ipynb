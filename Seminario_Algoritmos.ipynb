{
  "nbformat": 4,
  "nbformat_minor": 0,
  "metadata": {
    "colab": {
      "provenance": [],
      "include_colab_link": true
    },
    "kernelspec": {
      "name": "python3",
      "display_name": "Python 3"
    }
  },
  "cells": [
    {
      "cell_type": "markdown",
      "metadata": {
        "id": "view-in-github",
        "colab_type": "text"
      },
      "source": [
        "<a href=\"https://colab.research.google.com/github/marinaalvarezh/MIAR-Seminario_Algoritmos/blob/developer%2Falgoritmo/Seminario_Algoritmos.ipynb\" target=\"_parent\"><img src=\"https://colab.research.google.com/assets/colab-badge.svg\" alt=\"Open In Colab\"/></a>"
      ]
    },
    {
      "cell_type": "markdown",
      "metadata": {
        "id": "hVbXYX-RfPWh"
      },
      "source": [
        "# Algoritmos de optimización - Seminario<br>\n",
        "Nombre y Apellidos:  Marina Álvarez Hornero <br>\n",
        "Url: https://github.com/marinaalvarezh/MIAR-Seminario_Algoritmos<br>\n",
        "Problema:\n",
        "> 1. Sesiones de doblaje <br>\n",
        "\n",
        "Descripción del problema:\n",
        "\n",
        "Se precisa coordinar el doblaje de una película. Los actores del doblaje deben coincidir en las\n",
        "tomas en las que sus personajes aparecen juntos en las diferentes tomas. Los actores de\n",
        "doblaje cobran todos la misma cantidad por cada día que deben desplazarse hasta el estudio de\n",
        "grabación independientemente del número de tomas que se graben. No es posible grabar más\n",
        "de 6 tomas por día. El objetivo es planificar las sesiones por día de manera que el gasto por los\n",
        "servicios de los actores de doblaje sea el menor posible. Los datos son:\n",
        "\n",
        "Número de actores: 10\n",
        "Número de tomas : 30\n",
        "Actores/Tomas : https://bit.ly/36D8IuK\n",
        "- 1 indica que el actor participa en la toma\n",
        "- 0 en caso contrario\n",
        "\n",
        "\n",
        "\n",
        "\n",
        "\n",
        "                                        "
      ]
    },
    {
      "cell_type": "code",
      "metadata": {
        "id": "AiskKkzZfy4e"
      },
      "source": [],
      "execution_count": null,
      "outputs": []
    },
    {
      "cell_type": "markdown",
      "metadata": {
        "id": "3_-exlrTgLd-"
      },
      "source": [
        "**(*)¿Cuantas posibilidades hay sin tener en cuenta las restricciones?**<br>\n",
        "\n",
        "Sin tener en cuenta las restricciones, se va a analizar en el mejor y peor caso. Siendo n = número de tomas a asignar y siendo m = número de días disponibles.\n",
        "\n",
        "En el peor caso, el algoritmo recorre todas las combinaciones posibles, cada toma de las n tomas, se le puede asignar cualquiera de los m dias. El orden de complejidad seria exponencial m^n. El tamaño de tomas n hace que el número de soluciones a explorar sea mucho mayor.\n",
        "\n",
        "En el mejor caso, el algoritmo encontraría la solución en la primera asignación por ejemplo, entonces la complejidad poddría ser lineal o polinomial.\n",
        "\n",
        "**¿Cuantas posibilidades hay teniendo en cuenta todas las restricciones.**<br>\n",
        "\n",
        "Al aplicar restricciones el algortimos disminuye su orden de complejidad, para al restricción de 6 tomas al día, sigue siendo de orden exponencial pero al tener un n fijo aumenta mucho mas lentamente en función del tamaño de la muestra.\n",
        "\n",
        "\n"
      ]
    },
    {
      "cell_type": "markdown",
      "metadata": {
        "id": "dzynfVJahHoY"
      },
      "source": [
        "**Modelo para el espacio de soluciones**<br>\n",
        "(*) ¿Cual es la estructura de datos que mejor se adapta al problema? Argumentalo.(Es posible que hayas elegido una al principio y veas la necesidad de cambiar, arguentalo)\n"
      ]
    },
    {
      "cell_type": "markdown",
      "metadata": {
        "id": "xFIJrOwKi2Ti"
      },
      "source": [
        "Respuesta"
      ]
    },
    {
      "cell_type": "code",
      "metadata": {
        "id": "38c-7-ejhJmA"
      },
      "source": [
        "#cual es la estrucutura de datos y por qué esa es la mejor estructura de datos"
      ],
      "execution_count": null,
      "outputs": []
    },
    {
      "cell_type": "markdown",
      "metadata": {
        "id": "7Z9U2W7bi-XS"
      },
      "source": [
        "Según el modelo para el espacio de soluciones<br>\n",
        "(*)¿Cual es la función objetivo?\n",
        "\n",
        "(*)¿Es un problema de maximización o minimización?"
      ]
    },
    {
      "cell_type": "markdown",
      "metadata": {
        "id": "hBalWLM7j1_d"
      },
      "source": [
        "Respuesta"
      ]
    },
    {
      "cell_type": "code",
      "metadata": {
        "id": "pDA-rg3Gj5Lz"
      },
      "source": [],
      "execution_count": null,
      "outputs": []
    },
    {
      "cell_type": "markdown",
      "metadata": {
        "id": "rlnTYgY1j6I2"
      },
      "source": [
        "**Diseña un algoritmo para resolver el problema por fuerza bruta**"
      ]
    },
    {
      "cell_type": "markdown",
      "metadata": {
        "id": "70rDgxYXkC8r"
      },
      "source": [
        "Respuesta"
      ]
    },
    {
      "cell_type": "code",
      "metadata": {
        "id": "CJb5sQ0qkENy",
        "colab": {
          "base_uri": "https://localhost:8080/"
        },
        "outputId": "b9a9a487-8697-4b78-9773-c5cf22e5776e"
      },
      "source": [
        "from itertools import combinations\n",
        "import time\n",
        "\n",
        "# Dataset original\n",
        "#tomas_original[toma][actor]\n",
        "tomas_original = [\n",
        "[1,1,1,1,1,0,0,0,0,0],\n",
        "[0,0,1,1,1,0,0,0,0,0],\n",
        "[0,1,0,0,1,0,1,0,0,0],\n",
        "[1,1,0,0,0,0,1,1,0,0],\n",
        "[0,1,0,1,0,0,0,1,0,0],\n",
        "[1,1,0,1,1,0,0,0,0,0],\n",
        "[1,1,0,1,1,0,0,0,0,0],\n",
        "[1,1,0,0,0,1,0,0,0,0],\n",
        "[1,1,0,1,0,0,0,0,0,0],\n",
        "[1,1,0,0,0,1,0,0,1,0],\n",
        "[1,1,1,0,1,0,0,1,0,0],\n",
        "[1,1,1,1,0,1,0,0,0,0],\n",
        "[1,0,0,1,1,0,0,0,0,0],\n",
        "[1,0,1,0,0,1,0,0,0,0],\n",
        "[1,1,0,0,0,0,1,0,0,0],\n",
        "[0,0,0,1,0,0,0,0,0,1],\n",
        "[1,0,1,0,0,0,0,0,0,0],\n",
        "[0,0,1,0,0,1,0,0,0,0],\n",
        "[1,0,1,0,0,0,0,0,0,0],\n",
        "[1,0,1,1,1,0,0,0,0,0],\n",
        "[0,0,0,0,0,1,0,1,0,0],\n",
        "[1,1,1,1,0,0,0,0,0,0],\n",
        "[1,0,1,0,0,0,0,0,0,0],\n",
        "[0,0,1,0,0,1,0,0,0,0],\n",
        "[1,1,0,1,0,0,0,0,0,1],\n",
        "[1,0,1,0,1,0,0,0,1,0],\n",
        "[0,0,0,1,1,0,0,0,0,0],\n",
        "[1,0,0,1,0,0,0,0,0,0],\n",
        "[1,0,0,0,1,1,0,0,0,0],\n",
        "[1,0,0,1,0,0,0,0,0,0]\n",
        "]\n",
        "\n",
        "##################################\n",
        "### FUERZA BRUTA PARA 10 TOMAS ###\n",
        "##################################\n",
        "\n",
        "#Parámetros\n",
        "N_TOMAS_USAR = 10\n",
        "MAX_TOMAS_DIA = 6\n",
        "\n",
        "# Dataset reducido para aplicar fuerza bruta\n",
        "tomas_actores = tomas_original[:N_TOMAS_USAR]\n",
        "N_TOMAS = len(tomas_actores)\n",
        "N_ACTORES = len(tomas_actores[0])\n",
        "\n",
        "# Función coste de un día, devuelve el numero de actores que estan presentes en un dia (funcion que se quiere minimizar)\n",
        "def coste_dia(indice_tomas):\n",
        "    actores_presentes = [0] * N_ACTORES\n",
        "    for t in indice_tomas:\n",
        "        for a in range(N_ACTORES):\n",
        "            if tomas_actores[t][a] == 1:\n",
        "                actores_presentes[a] = 1\n",
        "    return sum(actores_presentes)\n",
        "\n",
        "#### Resolucion algoritmo por fuerza bruta pura ####\n",
        "\n",
        "def backtracking(tomas_restantes, plan_actual, coste_actual, mejor_coste, mejor_plan):\n",
        "    #Se compara la mejor solucion cuando no quedan tomas por asignar\n",
        "    if not tomas_restantes:\n",
        "        if coste_actual < mejor_coste:\n",
        "            return coste_actual, list(plan_actual)\n",
        "        else:\n",
        "            return mejor_coste, mejor_plan\n",
        "\n",
        "\n",
        "    for size in range(1, min(MAX_TOMAS_DIA, len(tomas_restantes)) + 1):\n",
        "        for comb in combinations(tomas_restantes, size):    #genera todas las posibles combinaciones para cada dia\n",
        "            nuevas_restantes = list(tomas_restantes)        #se copia la lista de las tomas que faltan por asignar\n",
        "            for t in comb:\n",
        "                nuevas_restantes.remove(t)                  #se eliminan las tomas que se acaban de asignar\n",
        "            c = coste_dia(comb)                             #se calcula el coste del dia coon esas tomas\n",
        "            plan_actual.append(comb)                        #se añade la combinacion al plan actual\n",
        "            mejor_coste, mejor_plan = backtracking(nuevas_restantes, plan_actual, coste_actual + c, mejor_coste, mejor_plan) #se llama recursivamente a esta funcion\n",
        "            plan_actual.pop()\n",
        "\n",
        "    return mejor_coste, mejor_plan\n",
        "\n",
        "# Ejecución del algoritmo y medición de tiempo\n",
        "start = time.time()\n",
        "mejor_coste, mejor_plan = backtracking(list(range(N_TOMAS)), [], 0, float(\"inf\"), None)\n",
        "end = time.time()\n",
        "\n",
        "print(\"RESULTADO FUERZA BRUTA\")\n",
        "print(\"Tomas usadas:\", N_TOMAS)\n",
        "print(\"Mejor coste:\", mejor_coste)\n",
        "print(\"Planificación por días:\")\n",
        "for i, dia in enumerate(mejor_plan, 1):\n",
        "    print(f\"Día {i}: tomas {dia}\")\n",
        "print(f\"Tiempo de ejecución: {end - start:.4f} segundos\")"
      ],
      "execution_count": null,
      "outputs": [
        {
          "output_type": "stream",
          "name": "stdout",
          "text": [
            "RESULTADO FUERZA BRUTA\n",
            "Tomas usadas: 10\n",
            "Mejor coste: 13\n",
            "Planificación por días:\n",
            "Día 1: tomas (0, 1, 5, 6)\n",
            "Día 2: tomas (2, 3, 4, 7, 8, 9)\n",
            "Tiempo de ejecución: 446.1591 segundos\n"
          ]
        }
      ]
    },
    {
      "cell_type": "markdown",
      "metadata": {
        "id": "tgrnsC2nkFa8"
      },
      "source": [
        "**Calcula la complejidad del algoritmo por fuerza bruta**"
      ]
    },
    {
      "cell_type": "markdown",
      "metadata": {
        "id": "9eUd3xwckP68"
      },
      "source": [
        "Respuesta"
      ]
    },
    {
      "cell_type": "code",
      "metadata": {
        "id": "rvZWwL-ckRST"
      },
      "source": [],
      "execution_count": null,
      "outputs": []
    },
    {
      "cell_type": "markdown",
      "metadata": {
        "id": "txbrmLmskReM"
      },
      "source": [
        "**(*)Diseña un algoritmo que mejore la complejidad del algortimo por fuerza bruta. Argumenta porque crees que mejora el algoritmo por fuerza bruta**"
      ]
    },
    {
      "cell_type": "markdown",
      "metadata": {
        "id": "hLrVwt5QkZPD"
      },
      "source": [
        "Se ha desarrollado una solución basada inicialmente en un técnica voraz que asigna las tomas a los días priorizando las tomas con más actores y buscando minimizar el aumento del coste diario al agregarlas, respetando el límite máximo de tomas por día. Este método construye una planificación inicial eficiente al agrupar tomas con actores comunes, reduciendo así el total de actor-días.\n",
        "\n",
        "Para mejorar esta solución inicial, se aplica una búsqueda local que intenta optimizar la asignación mediante movimientos individuales de tomas entre días. Cada posible traslado se evalúa en función de la reducción del coste total, aceptando solo aquellos cambios que mejoran la planificación. Este proceso iterativo se repite hasta que no se encuentran más mejoras, refinando la solución y acercándola a un óptimo local.\n"
      ]
    },
    {
      "cell_type": "code",
      "metadata": {
        "id": "m1eyM21Vkabg",
        "colab": {
          "base_uri": "https://localhost:8080/"
        },
        "outputId": "b87e5b67-3b92-48ec-b748-ccb02304637a"
      },
      "source": [
        "import time\n",
        "tomas_original = [\n",
        "[1,1,1,1,1,0,0,0,0,0],\n",
        "[0,0,1,1,1,0,0,0,0,0],\n",
        "[0,1,0,0,1,0,1,0,0,0],\n",
        "[1,1,0,0,0,0,1,1,0,0],\n",
        "[0,1,0,1,0,0,0,1,0,0],\n",
        "[1,1,0,1,1,0,0,0,0,0],\n",
        "[1,1,0,1,1,0,0,0,0,0],\n",
        "[1,1,0,0,0,1,0,0,0,0],\n",
        "[1,1,0,1,0,0,0,0,0,0],\n",
        "[1,1,0,0,0,1,0,0,1,0],\n",
        "[1,1,1,0,1,0,0,1,0,0],\n",
        "[1,1,1,1,0,1,0,0,0,0],\n",
        "[1,0,0,1,1,0,0,0,0,0],\n",
        "[1,0,1,0,0,1,0,0,0,0],\n",
        "[1,1,0,0,0,0,1,0,0,0],\n",
        "[0,0,0,1,0,0,0,0,0,1],\n",
        "[1,0,1,0,0,0,0,0,0,0],\n",
        "[0,0,1,0,0,1,0,0,0,0],\n",
        "[1,0,1,0,0,0,0,0,0,0],\n",
        "[1,0,1,1,1,0,0,0,0,0],\n",
        "[0,0,0,0,0,1,0,1,0,0],\n",
        "[1,1,1,1,0,0,0,0,0,0],\n",
        "[1,0,1,0,0,0,0,0,0,0],\n",
        "[0,0,1,0,0,1,0,0,0,0],\n",
        "[1,1,0,1,0,0,0,0,0,1],\n",
        "[1,0,1,0,1,0,0,0,1,0],\n",
        "[0,0,0,1,1,0,0,0,0,0],\n",
        "[1,0,0,1,0,0,0,0,0,0],\n",
        "[1,0,0,0,1,1,0,0,0,0],\n",
        "[1,0,0,1,0,0,0,0,0,0]\n",
        "]\n",
        "\n",
        "\n",
        "##################################\n",
        "### GREEDY PARA 10 TOMAS ###\n",
        "##################################\n",
        "\n",
        "#Parámetros\n",
        "N_TOMAS_USAR = 10\n",
        "MAX_TOMAS_DIA = 6\n",
        "\n",
        "# Dataset reducido para aplicar tecnica voraz\n",
        "tomas_actores = tomas_original[:N_TOMAS_USAR]\n",
        "N_ACTORES = len(tomas_actores[0])\n",
        "\n",
        "# Función coste de un día, devuelve el numero de actores que estan presentes en un dia (funcion que se quiere minimizar)\n",
        "def coste_dia(indice_tomas):\n",
        "    actores_presentes = [0] * N_ACTORES\n",
        "    for t in indice_tomas:\n",
        "        for a in range(N_ACTORES):\n",
        "            if tomas_actores[t][a] == 1:\n",
        "                actores_presentes[a] = 1\n",
        "    return sum(actores_presentes)\n",
        "\n",
        "# Función que calcula el coste total, sumando el coste de cada dia\n",
        "def coste_total(dias):\n",
        "    total = 0\n",
        "    for dia in dias:\n",
        "        total += coste_dia(dia)\n",
        "    return total\n",
        "\n",
        "\n",
        "def algoritmo_greedy(tomas, max_tomas_dia):\n",
        "    dias = []\n",
        "\n",
        "    # Ordena las tomas mas caras, segun las que mas actores participan en cada toma\n",
        "    tomas_ordenadas = sorted(range(len(tomas)), key=lambda t: -sum(tomas[t]))\n",
        "    for toma in tomas_ordenadas:\n",
        "        mejor_dia = None\n",
        "        minimo_aumento = None\n",
        "\n",
        "        # Se calcula el coste de añadir la toma a cada dia y compara cuál es el de menor coste\n",
        "        for i, dia in enumerate(dias):\n",
        "            if len(dia) < max_tomas_dia:\n",
        "                aumento = coste_dia(dia + [toma]) - coste_dia(dia)\n",
        "                if (minimo_aumento is None) or (aumento < minimo_aumento):\n",
        "                    minimo_aumento = aumento\n",
        "                    mejor_dia = i\n",
        "\n",
        "        # Se añade la toma al dia si produce un menor aumento de coste, sino se crea un nuevo dia con esa toma\n",
        "        if mejor_dia is not None:\n",
        "            dias[mejor_dia].append(toma)\n",
        "        else:\n",
        "            dias.append([toma])\n",
        "    return dias\n",
        "\n",
        "def busqueda_local_swap(dias):\n",
        "    mejor = True\n",
        "    while mejor:\n",
        "        mejor = False\n",
        "        for i in range(len(dias)):\n",
        "            for j in range(len(dias)):\n",
        "                if i == j:\n",
        "                    continue\n",
        "                for t_i in dias[i]:\n",
        "                    if len(dias[j]) >= MAX_TOMAS_DIA:\n",
        "                        continue\n",
        "                    # Intentar mover toma t_i de dia i a dia j\n",
        "                    nuevo_dias = [list(d) for d in dias]\n",
        "                    nuevo_dias[i].remove(t_i)\n",
        "                    nuevo_dias[j].append(t_i)\n",
        "                    if coste_total(nuevo_dias) < coste_total(dias):\n",
        "                        dias[i].remove(t_i)\n",
        "                        dias[j].append(t_i)\n",
        "                        mejor = True\n",
        "                        break\n",
        "                if mejor:\n",
        "                    break\n",
        "            if mejor:\n",
        "                break\n",
        "    return dias\n",
        "\n",
        "# Ejecutar greedy y luego mejorar con búsqueda local\n",
        "start = time.time()\n",
        "plan = algoritmo_greedy(tomas_actores, MAX_TOMAS_DIA)\n",
        "plan = busqueda_local_swap(plan)\n",
        "end = time.time()\n",
        "\n",
        "coste = coste_total(plan)\n",
        "\n",
        "print(f\"Número de días usados: {len(plan)}\")\n",
        "print(f\"Coste total (actor-días): {coste}\")\n",
        "for i, dia in enumerate(plan, 1):\n",
        "    print(f\"Día {i}: tomas {dia}\")\n",
        "print(f\"Tiempo de ejecución: {end - start:.4f} segundos\")"
      ],
      "execution_count": 36,
      "outputs": [
        {
          "output_type": "stream",
          "name": "stdout",
          "text": [
            "Número de días usados: 2\n",
            "Coste total (actor-días): 13\n",
            "Día 1: tomas [0, 5, 6, 1]\n",
            "Día 2: tomas [2, 4, 7, 8, 3, 9]\n",
            "Tiempo de ejecución: 0.0007 segundos\n"
          ]
        }
      ]
    },
    {
      "cell_type": "code",
      "source": [
        "import time\n",
        "tomas_original = [\n",
        "[1,1,1,1,1,0,0,0,0,0],\n",
        "[0,0,1,1,1,0,0,0,0,0],\n",
        "[0,1,0,0,1,0,1,0,0,0],\n",
        "[1,1,0,0,0,0,1,1,0,0],\n",
        "[0,1,0,1,0,0,0,1,0,0],\n",
        "[1,1,0,1,1,0,0,0,0,0],\n",
        "[1,1,0,1,1,0,0,0,0,0],\n",
        "[1,1,0,0,0,1,0,0,0,0],\n",
        "[1,1,0,1,0,0,0,0,0,0],\n",
        "[1,1,0,0,0,1,0,0,1,0],\n",
        "[1,1,1,0,1,0,0,1,0,0],\n",
        "[1,1,1,1,0,1,0,0,0,0],\n",
        "[1,0,0,1,1,0,0,0,0,0],\n",
        "[1,0,1,0,0,1,0,0,0,0],\n",
        "[1,1,0,0,0,0,1,0,0,0],\n",
        "[0,0,0,1,0,0,0,0,0,1],\n",
        "[1,0,1,0,0,0,0,0,0,0],\n",
        "[0,0,1,0,0,1,0,0,0,0],\n",
        "[1,0,1,0,0,0,0,0,0,0],\n",
        "[1,0,1,1,1,0,0,0,0,0],\n",
        "[0,0,0,0,0,1,0,1,0,0],\n",
        "[1,1,1,1,0,0,0,0,0,0],\n",
        "[1,0,1,0,0,0,0,0,0,0],\n",
        "[0,0,1,0,0,1,0,0,0,0],\n",
        "[1,1,0,1,0,0,0,0,0,1],\n",
        "[1,0,1,0,1,0,0,0,1,0],\n",
        "[0,0,0,1,1,0,0,0,0,0],\n",
        "[1,0,0,1,0,0,0,0,0,0],\n",
        "[1,0,0,0,1,1,0,0,0,0],\n",
        "[1,0,0,1,0,0,0,0,0,0]\n",
        "]\n",
        "\n",
        "\n",
        "##################################\n",
        "### GREEDY PARA 30 TOMAS ###\n",
        "##################################\n",
        "\n",
        "#Parámetros\n",
        "N_TOMAS_USAR = 30\n",
        "MAX_TOMAS_DIA = 6\n",
        "\n",
        "# Dataset reducido para aplicar tecnica voraz\n",
        "tomas_actores = tomas_original[:N_TOMAS_USAR]\n",
        "N_ACTORES = len(tomas_actores[0])\n",
        "\n",
        "# Función coste de un día, devuelve el numero de actores que estan presentes en un dia (funcion que se quiere minimizar)\n",
        "def coste_dia(indice_tomas):\n",
        "    actores_presentes = [0] * N_ACTORES\n",
        "    for t in indice_tomas:\n",
        "        for a in range(N_ACTORES):\n",
        "            if tomas_actores[t][a] == 1:\n",
        "                actores_presentes[a] = 1\n",
        "    return sum(actores_presentes)\n",
        "\n",
        "# Función que calcula el coste total, sumando el coste de cada dia\n",
        "def coste_total(dias):\n",
        "    total = 0\n",
        "    for dia in dias:\n",
        "        total += coste_dia(dia)\n",
        "    return total\n",
        "\n",
        "\n",
        "def algoritmo_greedy(tomas, max_tomas_dia):\n",
        "    dias = []\n",
        "\n",
        "    # Ordena las tomas mas caras, segun las que mas actores participan en cada toma\n",
        "    tomas_ordenadas = sorted(range(len(tomas)), key=lambda t: -sum(tomas[t]))\n",
        "    for toma in tomas_ordenadas:\n",
        "        mejor_dia = None\n",
        "        minimo_aumento = None\n",
        "\n",
        "        # Se calcula el coste de añadir la toma a cada dia y compara cuál es el de menor coste\n",
        "        for i, dia in enumerate(dias):\n",
        "            if len(dia) < max_tomas_dia:\n",
        "                aumento = coste_dia(dia + [toma]) - coste_dia(dia)\n",
        "                if (minimo_aumento is None) or (aumento < minimo_aumento):\n",
        "                    minimo_aumento = aumento\n",
        "                    mejor_dia = i\n",
        "\n",
        "        # Se añade la toma al dia si produce un menor aumento de coste, sino se crea un nuevo dia con esa toma\n",
        "        if mejor_dia is not None:\n",
        "            dias[mejor_dia].append(toma)\n",
        "        else:\n",
        "            dias.append([toma])\n",
        "    return dias\n",
        "\n",
        "def busqueda_local_swap(dias):\n",
        "    mejor = True\n",
        "    while mejor:\n",
        "        mejor = False\n",
        "        for i in range(len(dias)):\n",
        "            for j in range(len(dias)):\n",
        "                if i == j:\n",
        "                    continue\n",
        "                for t_i in dias[i]:\n",
        "                    if len(dias[j]) >= MAX_TOMAS_DIA:\n",
        "                        continue\n",
        "                    # Intentar mover toma t_i de dia i a dia j\n",
        "                    nuevo_dias = [list(d) for d in dias]\n",
        "                    nuevo_dias[i].remove(t_i)\n",
        "                    nuevo_dias[j].append(t_i)\n",
        "                    if coste_total(nuevo_dias) < coste_total(dias):\n",
        "                        dias[i].remove(t_i)\n",
        "                        dias[j].append(t_i)\n",
        "                        mejor = True\n",
        "                        break\n",
        "                if mejor:\n",
        "                    break\n",
        "            if mejor:\n",
        "                break\n",
        "    return dias\n",
        "\n",
        "# Ejecutar greedy y luego mejorar con búsqueda local\n",
        "start = time.time()\n",
        "plan = algoritmo_greedy(tomas_actores, MAX_TOMAS_DIA)\n",
        "plan = busqueda_local_swap(plan)\n",
        "end = time.time()\n",
        "\n",
        "coste = coste_total(plan)\n",
        "\n",
        "print(f\"Número de días usados: {len(plan)}\")\n",
        "print(f\"Coste total (actor-días): {coste}\")\n",
        "for i, dia in enumerate(plan, 1):\n",
        "    print(f\"Día {i}: tomas {dia}\")\n",
        "print(f\"Tiempo de ejecución: {end - start:.4f} segundos\")"
      ],
      "metadata": {
        "colab": {
          "base_uri": "https://localhost:8080/"
        },
        "id": "K_SXr4Jd9oH8",
        "outputId": "b63da452-800d-4ce2-a951-1d83effde742"
      },
      "execution_count": 37,
      "outputs": [
        {
          "output_type": "stream",
          "name": "stdout",
          "text": [
            "Número de días usados: 5\n",
            "Coste total (actor-días): 38\n",
            "Día 1: tomas [0, 10, 11, 3, 5, 6]\n",
            "Día 2: tomas [9, 19, 21, 24, 25, 1]\n",
            "Día 3: tomas [2, 4, 7, 8, 12, 13]\n",
            "Día 4: tomas [14, 28, 15, 16, 17, 18]\n",
            "Día 5: tomas [20, 22, 23, 26, 27, 29]\n",
            "Tiempo de ejecución: 0.0003 segundos\n"
          ]
        }
      ]
    },
    {
      "cell_type": "markdown",
      "metadata": {
        "id": "eGDB4K6uk1iN"
      },
      "source": [
        "**(*)Calcula la complejidad del algoritmo**\n",
        "\n",
        "En el peor caso, el algoritmo voraz inicial ordena las tomas y para cada toma examina todos los días existentes para encontrar dónde provoca el menor aumento de coste, calculando el coste incremental que implica recorrer los actores afectados. Si hay n tomas y el máximo de tomas por día es k, el número máximo de días es aproximadamente n/k. Por tanto, en cada asignación se pueden evaluar hasta O(n/k) días y el coste de cálculo incremental está acotado por el número de actores, constante o pequeño en comparación con n. Esto da una complejidad cercana a O(n * (n/k)) = O(n^2/k), es decir, aproximadamente cuadrática respecto al número de tomas.\n",
        "\n",
        "La fase de mejora local realiza iterativamente movimientos de tomas entre días, probando pares de días y tomas dentro de ellos. En el peor caso, cada iteración puede requerir revisar O((n/k)^2 * k) = O(n^2/k) movimientos posibles, y dado que el proceso se repite hasta que no hay mejoras, el número de iteraciones depende del problema concreto y puede ser alto. Por ello, la mejora local tiene una complejidad potencialmente cuadrática o mayor en función de la convergencia.\n",
        "\n",
        "En el mejor caso, si las tomas se agrupan naturalmente en días con baja superposición de actores, el algoritmo voraz asigna rápidamente las tomas en grupos compactos, limitando la cantidad de días y las evaluaciones posteriores. Además, la mejora local puede converger en pocas iteraciones si la solución inicial es cercana al óptimo, reduciendo significativamente el tiempo total de ejecución.\n",
        "\n"
      ]
    },
    {
      "cell_type": "markdown",
      "metadata": {
        "id": "3M6QjTsSkmYe"
      },
      "source": [
        "**Según el problema (y tenga sentido), diseña un juego de datos de entrada aleatorios**"
      ]
    },
    {
      "cell_type": "markdown",
      "metadata": {
        "id": "Jc3_OlyNkvjZ"
      },
      "source": [
        "Respuesta"
      ]
    },
    {
      "cell_type": "code",
      "metadata": {
        "id": "sJ-N2etjkyWc",
        "colab": {
          "base_uri": "https://localhost:8080/"
        },
        "outputId": "f87f419d-3ade-4d81-ebc7-c48e7e26b11a"
      },
      "source": [
        "import random\n",
        "\n",
        "def generar_tomas_aleatorias(n_tomas, n_actores, prob_presencia=0.3, seed=None):\n",
        "    if seed is not None:\n",
        "        random.seed(seed)\n",
        "    tomas = []\n",
        "    for _ in range(n_tomas):\n",
        "        toma = [1 if random.random() < prob_presencia else 0 for _ in range(n_actores)]\n",
        "        tomas.append(toma)\n",
        "    return tomas\n",
        "\n",
        "# Parámetros ejemplo\n",
        "N_TOMAS = 100\n",
        "N_ACTORES = 20\n",
        "PROB_ACTOR_PRESENTE = 0.3\n",
        "\n",
        "tomas_aleatorias = generar_tomas_aleatorias(N_TOMAS, N_ACTORES, PROB_ACTOR_PRESENTE, seed=42)\n",
        "\n",
        "# Mostrar algunas tomas\n",
        "for i, toma in enumerate(tomas_aleatorias[:5], 1):\n",
        "    print(f\"Toma {i}: {toma}\")"
      ],
      "execution_count": 31,
      "outputs": [
        {
          "output_type": "stream",
          "name": "stdout",
          "text": [
            "Toma 1: [0, 1, 1, 1, 0, 0, 0, 1, 0, 1, 1, 0, 1, 1, 0, 0, 1, 0, 0, 1]\n",
            "Toma 2: [0, 0, 0, 1, 0, 0, 1, 1, 0, 0, 0, 0, 0, 0, 0, 0, 0, 0, 0, 0]\n",
            "Toma 3: [0, 1, 1, 1, 1, 1, 1, 1, 0, 0, 0, 1, 1, 0, 0, 0, 1, 0, 1, 0]\n",
            "Toma 4: [0, 0, 0, 0, 0, 0, 1, 1, 0, 1, 1, 0, 0, 0, 0, 0, 0, 0, 1, 1]\n",
            "Toma 5: [0, 1, 0, 0, 0, 1, 0, 0, 1, 1, 1, 0, 0, 0, 1, 0, 0, 0, 0, 0]\n"
          ]
        }
      ]
    },
    {
      "cell_type": "markdown",
      "metadata": {
        "id": "zy5ZROmjlGo1"
      },
      "source": [
        "**Aplica el algoritmo al juego de datos generado**"
      ]
    },
    {
      "cell_type": "markdown",
      "metadata": {
        "id": "_Cmj-PVylMsa"
      },
      "source": [
        "Respuesta"
      ]
    },
    {
      "cell_type": "code",
      "metadata": {
        "id": "Jkx8GeiYlUz1",
        "colab": {
          "base_uri": "https://localhost:8080/"
        },
        "outputId": "bdb0b638-34e0-41ef-83f8-39ae2f3b6738"
      },
      "source": [
        "\n",
        "\n",
        "# Función coste de un día, devuelve el numero de actores que estan presentes en un dia (funcion que se quiere minimizar)\n",
        "def coste_dia(indice_tomas):\n",
        "    actores_presentes = [0] * N_ACTORES\n",
        "    for t in indice_tomas:\n",
        "        for a in range(N_ACTORES):\n",
        "            if tomas_aleatorias[t][a] == 1:\n",
        "                actores_presentes[a] = 1\n",
        "    return sum(actores_presentes)\n",
        "\n",
        "# Función que calcula el coste total, sumando el coste de cada dia\n",
        "def coste_total(dias):\n",
        "    total = 0\n",
        "    for dia in dias:\n",
        "        total += coste_dia(dia)\n",
        "    return total\n",
        "\n",
        "\n",
        "def algoritmo_greedy(tomas, max_tomas_dia):\n",
        "    dias = []\n",
        "\n",
        "    # Ordena las tomas mas caras, segun las que mas actores participan en cada toma\n",
        "    tomas_ordenadas = sorted(range(len(tomas)), key=lambda t: -sum(tomas[t]))\n",
        "    for toma in tomas_ordenadas:\n",
        "        mejor_dia = None\n",
        "        minimo_aumento = None\n",
        "\n",
        "        # Se calcula el coste de añadir la toma a cada dia y compara cuál es el de menor coste\n",
        "        for i, dia in enumerate(dias):\n",
        "            if len(dia) < max_tomas_dia:\n",
        "                aumento = coste_dia(dia + [toma]) - coste_dia(dia)\n",
        "                if (minimo_aumento is None) or (aumento < minimo_aumento):\n",
        "                    minimo_aumento = aumento\n",
        "                    mejor_dia = i\n",
        "\n",
        "        # Se añade la toma al dia si produce un menor aumento de coste, sino se crea un nuevo dia con esa toma\n",
        "        if mejor_dia is not None:\n",
        "            dias[mejor_dia].append(toma)\n",
        "        else:\n",
        "            dias.append([toma])\n",
        "    return dias\n",
        "\n",
        "def busqueda_local_swap(dias):\n",
        "    mejor = True\n",
        "    while mejor:\n",
        "        mejor = False\n",
        "        for i in range(len(dias)):\n",
        "            for j in range(len(dias)):\n",
        "                if i == j:\n",
        "                    continue\n",
        "                for t_i in dias[i]:\n",
        "                    if len(dias[j]) >= MAX_TOMAS_DIA:\n",
        "                        continue\n",
        "                    # Intentar mover toma t_i de dia i a dia j\n",
        "                    nuevo_dias = [list(d) for d in dias]\n",
        "                    nuevo_dias[i].remove(t_i)\n",
        "                    nuevo_dias[j].append(t_i)\n",
        "                    if coste_total(nuevo_dias) < coste_total(dias):\n",
        "                        dias[i].remove(t_i)\n",
        "                        dias[j].append(t_i)\n",
        "                        mejor = True\n",
        "                        break\n",
        "                if mejor:\n",
        "                    break\n",
        "            if mejor:\n",
        "                break\n",
        "    return dias\n",
        "\n",
        "# Ejecutar greedy y luego mejorar con búsqueda local\n",
        "start = time.time()\n",
        "plan = algoritmo_greedy(tomas_aleatorias, MAX_TOMAS_DIA)\n",
        "plan = busqueda_local_swap(plan)\n",
        "end = time.time()\n",
        "\n",
        "coste = coste_total(plan)\n",
        "\n",
        "print(f\"Número de días usados: {len(plan)}\")\n",
        "print(f\"Coste total (actor-días): {coste}\")\n",
        "for i, dia in enumerate(plan, 1):\n",
        "    print(f\"Día {i}: tomas {dia}\")\n",
        "print(f\"Tiempo de ejecución: {end - start:.4f} segundos\")"
      ],
      "execution_count": 35,
      "outputs": [
        {
          "output_type": "stream",
          "name": "stdout",
          "text": [
            "Número de días usados: 17\n",
            "Coste total (actor-días): 227\n",
            "Día 1: tomas [31, 51, 2, 0, 68, 93]\n",
            "Día 2: tomas [17, 43, 50, 63, 44, 34]\n",
            "Día 3: tomas [29, 58, 70, 72, 88, 25]\n",
            "Día 4: tomas [95, 5, 12, 13, 35, 38]\n",
            "Día 5: tomas [21, 23, 26, 20, 8, 4]\n",
            "Día 6: tomas [57, 76, 82, 98, 14, 3]\n",
            "Día 7: tomas [92, 36, 87, 55, 71, 85]\n",
            "Día 8: tomas [10, 15, 24, 32, 69, 9]\n",
            "Día 9: tomas [40, 53, 54, 56, 59, 7]\n",
            "Día 10: tomas [60, 65, 86, 89, 94, 11]\n",
            "Día 11: tomas [27, 46, 77, 81, 79, 22]\n",
            "Día 12: tomas [84, 90, 96, 16, 66, 61]\n",
            "Día 13: tomas [30, 33, 45, 64, 99, 83]\n",
            "Día 14: tomas [80, 91, 1, 18]\n",
            "Día 15: tomas [39, 47, 52, 62, 48, 49]\n",
            "Día 16: tomas [67, 75, 78, 28, 19, 74]\n",
            "Día 17: tomas [37, 41, 73, 97, 42, 6]\n",
            "Tiempo de ejecución: 0.7032 segundos\n"
          ]
        }
      ]
    },
    {
      "cell_type": "markdown",
      "metadata": {
        "id": "eTFWUJQrtGcv"
      },
      "source": [
        "Enumera las referencias que has utilizado(si ha sido necesario) para llevar a cabo el trabajo"
      ]
    },
    {
      "cell_type": "markdown",
      "metadata": {
        "id": "YKQ_mRBttWsP"
      },
      "source": [
        "Respuesta"
      ]
    },
    {
      "cell_type": "markdown",
      "metadata": {
        "id": "kAkDPUyRtYyH"
      },
      "source": [
        "Describe brevemente las lineas de como crees que es posible avanzar en el estudio del problema. Ten en cuenta incluso posibles variaciones del problema y/o variaciones al alza del tamaño"
      ]
    },
    {
      "cell_type": "markdown",
      "metadata": {
        "id": "IE0uZmo-tZu-"
      },
      "source": [
        "Respuesta"
      ]
    }
  ]
}