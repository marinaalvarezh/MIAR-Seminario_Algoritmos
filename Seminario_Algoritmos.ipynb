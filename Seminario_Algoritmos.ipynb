{
  "nbformat": 4,
  "nbformat_minor": 0,
  "metadata": {
    "colab": {
      "provenance": [],
      "include_colab_link": true
    },
    "kernelspec": {
      "name": "python3",
      "display_name": "Python 3"
    }
  },
  "cells": [
    {
      "cell_type": "markdown",
      "metadata": {
        "id": "view-in-github",
        "colab_type": "text"
      },
      "source": [
        "<a href=\"https://colab.research.google.com/github/marinaalvarezh/MIAR-Seminario_Algoritmos/blob/developer%2Falgoritmo/Seminario_Algoritmos.ipynb\" target=\"_parent\"><img src=\"https://colab.research.google.com/assets/colab-badge.svg\" alt=\"Open In Colab\"/></a>"
      ]
    },
    {
      "cell_type": "markdown",
      "metadata": {
        "id": "hVbXYX-RfPWh"
      },
      "source": [
        "# Algoritmos de optimización - Seminario<br>\n",
        "Nombre y Apellidos:  Marina Álvarez Hornero <br>\n",
        "Url: https://github.com/marinaalvarezh/MIAR-Seminario_Algoritmos<br>\n",
        "Problema:\n",
        "> 1. Sesiones de doblaje <br>\n",
        "\n",
        "Descripción del problema:\n",
        "\n",
        "Se precisa coordinar el doblaje de una película. Los actores del doblaje deben coincidir en las\n",
        "tomas en las que sus personajes aparecen juntos en las diferentes tomas. Los actores de\n",
        "doblaje cobran todos la misma cantidad por cada día que deben desplazarse hasta el estudio de\n",
        "grabación independientemente del número de tomas que se graben. No es posible grabar más\n",
        "de 6 tomas por día. El objetivo es planificar las sesiones por día de manera que el gasto por los\n",
        "servicios de los actores de doblaje sea el menor posible. Los datos son:\n",
        "\n",
        "Número de actores: 10\n",
        "Número de tomas : 30\n",
        "Actores/Tomas : https://bit.ly/36D8IuK\n",
        "- 1 indica que el actor participa en la toma\n",
        "- 0 en caso contrario\n",
        "\n",
        "\n",
        "\n",
        "\n",
        "\n",
        "                                        "
      ]
    },
    {
      "cell_type": "code",
      "metadata": {
        "id": "AiskKkzZfy4e"
      },
      "source": [],
      "execution_count": null,
      "outputs": []
    },
    {
      "cell_type": "markdown",
      "metadata": {
        "id": "3_-exlrTgLd-"
      },
      "source": [
        "**(*)¿Cuantas posibilidades hay sin tener en cuenta las restricciones?**<br>\n",
        "\n",
        "Sin tener en cuenta las restricciones, lo vamos a analizar en el mejor y peor caso. Siendo n = número de tomas a asignar y siendo m = número de días disponibles.\n",
        "\n",
        "En el peor caso, el algoritmo recorre todas las combinaciones posibles, cada toma de las n tomas, se le puede asignar cualquiera de los m dias. El orden de complejidad seria exponencial m^n. El tamaño de tomas n hace que el número de soluciones a explorar sea mucho mayor.\n",
        "\n",
        "En el mejor caso, el algoritmo encontraría la solución en la primera asignación por ejemplo, entonces la complejidad poddría ser lineal o polinomial.\n",
        "\n",
        "**¿Cuantas posibilidades hay teniendo en cuenta todas las restricciones.**<br>\n",
        "\n",
        "Al aplicar restricciones el algortimos disminuye su orden de complejidad, para al restricción de 6 tomas al día, sigue siendo de orden exponencial pero al tener un n fijo aumenta mucho mas lentamente en función del tamaño de la muestra.\n",
        "\n",
        "\n"
      ]
    },
    {
      "cell_type": "markdown",
      "metadata": {
        "id": "dzynfVJahHoY"
      },
      "source": [
        "**Modelo para el espacio de soluciones**<br>\n",
        "(*) ¿Cual es la estructura de datos que mejor se adapta al problema? Argumentalo.(Es posible que hayas elegido una al principio y veas la necesidad de cambiar, arguentalo)\n"
      ]
    },
    {
      "cell_type": "markdown",
      "metadata": {
        "id": "xFIJrOwKi2Ti"
      },
      "source": [
        "Respuesta"
      ]
    },
    {
      "cell_type": "code",
      "metadata": {
        "id": "38c-7-ejhJmA"
      },
      "source": [
        "#cual es la estrucutura de datos y por qué esa es la mejor estructura de datos"
      ],
      "execution_count": null,
      "outputs": []
    },
    {
      "cell_type": "markdown",
      "metadata": {
        "id": "7Z9U2W7bi-XS"
      },
      "source": [
        "Según el modelo para el espacio de soluciones<br>\n",
        "(*)¿Cual es la función objetivo?\n",
        "\n",
        "(*)¿Es un problema de maximización o minimización?"
      ]
    },
    {
      "cell_type": "markdown",
      "metadata": {
        "id": "hBalWLM7j1_d"
      },
      "source": [
        "Respuesta"
      ]
    },
    {
      "cell_type": "code",
      "metadata": {
        "id": "pDA-rg3Gj5Lz"
      },
      "source": [],
      "execution_count": null,
      "outputs": []
    },
    {
      "cell_type": "markdown",
      "metadata": {
        "id": "rlnTYgY1j6I2"
      },
      "source": [
        "**Diseña un algoritmo para resolver el problema por fuerza bruta**"
      ]
    },
    {
      "cell_type": "markdown",
      "metadata": {
        "id": "70rDgxYXkC8r"
      },
      "source": [
        "Respuesta"
      ]
    },
    {
      "cell_type": "code",
      "metadata": {
        "id": "CJb5sQ0qkENy",
        "colab": {
          "base_uri": "https://localhost:8080/"
        },
        "outputId": "b9a9a487-8697-4b78-9773-c5cf22e5776e"
      },
      "source": [
        "from itertools import combinations\n",
        "import time\n",
        "\n",
        "# Dataset original\n",
        "#tomas_original[toma][actor]\n",
        "tomas_original = [\n",
        "[1,1,1,1,1,0,0,0,0,0],\n",
        "[0,0,1,1,1,0,0,0,0,0],\n",
        "[0,1,0,0,1,0,1,0,0,0],\n",
        "[1,1,0,0,0,0,1,1,0,0],\n",
        "[0,1,0,1,0,0,0,1,0,0],\n",
        "[1,1,0,1,1,0,0,0,0,0],\n",
        "[1,1,0,1,1,0,0,0,0,0],\n",
        "[1,1,0,0,0,1,0,0,0,0],\n",
        "[1,1,0,1,0,0,0,0,0,0],\n",
        "[1,1,0,0,0,1,0,0,1,0],\n",
        "[1,1,1,0,1,0,0,1,0,0],\n",
        "[1,1,1,1,0,1,0,0,0,0],\n",
        "[1,0,0,1,1,0,0,0,0,0],\n",
        "[1,0,1,0,0,1,0,0,0,0],\n",
        "[1,1,0,0,0,0,1,0,0,0],\n",
        "[0,0,0,1,0,0,0,0,0,1],\n",
        "[1,0,1,0,0,0,0,0,0,0],\n",
        "[0,0,1,0,0,1,0,0,0,0],\n",
        "[1,0,1,0,0,0,0,0,0,0],\n",
        "[1,0,1,1,1,0,0,0,0,0],\n",
        "[0,0,0,0,0,1,0,1,0,0],\n",
        "[1,1,1,1,0,0,0,0,0,0],\n",
        "[1,0,1,0,0,0,0,0,0,0],\n",
        "[0,0,1,0,0,1,0,0,0,0],\n",
        "[1,1,0,1,0,0,0,0,0,1],\n",
        "[1,0,1,0,1,0,0,0,1,0],\n",
        "[0,0,0,1,1,0,0,0,0,0],\n",
        "[1,0,0,1,0,0,0,0,0,0],\n",
        "[1,0,0,0,1,1,0,0,0,0],\n",
        "[1,0,0,1,0,0,0,0,0,0]\n",
        "]\n",
        "\n",
        "##################################\n",
        "### FUERZA BRUTA PARA 10 TOMAS ###\n",
        "##################################\n",
        "\n",
        "#Parámetros\n",
        "N_TOMAS_USAR = 10\n",
        "MAX_TOMAS_DIA = 6\n",
        "\n",
        "# Dataset reducido para aplicar fuerza bruta\n",
        "tomas_actores = tomas_original[:N_TOMAS_USAR]\n",
        "N_TOMAS = len(tomas_actores)\n",
        "N_ACTORES = len(tomas_actores[0])\n",
        "\n",
        "# Función coste de un día, devuelve el numero de actores que estan presentes en un dia (funcion que se quiere minimizar)\n",
        "def coste_dia(indice_tomas):\n",
        "    actores_presentes = [0] * N_ACTORES\n",
        "    for t in indice_tomas:\n",
        "        for a in range(N_ACTORES):\n",
        "            if tomas_actores[t][a] == 1:\n",
        "                actores_presentes[a] = 1\n",
        "    return sum(actores_presentes)\n",
        "\n",
        "#### Resolucion algoritmo por fuerza bruta pura ####\n",
        "\n",
        "def backtracking(tomas_restantes, plan_actual, coste_actual, mejor_coste, mejor_plan):\n",
        "    #Se compara la mejor solucion cuando no quedan tomas por asignar\n",
        "    if not tomas_restantes:\n",
        "        if coste_actual < mejor_coste:\n",
        "            return coste_actual, list(plan_actual)\n",
        "        else:\n",
        "            return mejor_coste, mejor_plan\n",
        "\n",
        "\n",
        "    for size in range(1, min(MAX_TOMAS_DIA, len(tomas_restantes)) + 1):\n",
        "        for comb in combinations(tomas_restantes, size):    #genera todas las posibles combinaciones para cada dia\n",
        "            nuevas_restantes = list(tomas_restantes)        #se copia la lista de las tomas que faltan por asignar\n",
        "            for t in comb:\n",
        "                nuevas_restantes.remove(t)                  #se eliminan las tomas que se acaban de asignar\n",
        "            c = coste_dia(comb)                             #se calcula el coste del dia coon esas tomas\n",
        "            plan_actual.append(comb)                        #se añade la combinacion al plan actual\n",
        "            mejor_coste, mejor_plan = backtracking(nuevas_restantes, plan_actual, coste_actual + c, mejor_coste, mejor_plan) #se llama recursivamente a esta funcion\n",
        "            plan_actual.pop()\n",
        "\n",
        "    return mejor_coste, mejor_plan\n",
        "\n",
        "# Ejecución del algoritmo y medición de tiempo\n",
        "start = time.time()\n",
        "mejor_coste, mejor_plan = backtracking(list(range(N_TOMAS)), [], 0, float(\"inf\"), None)\n",
        "end = time.time()\n",
        "\n",
        "print(\"RESULTADO FUERZA BRUTA\")\n",
        "print(\"Tomas usadas:\", N_TOMAS)\n",
        "print(\"Mejor coste:\", mejor_coste)\n",
        "print(\"Planificación por días:\")\n",
        "for i, dia in enumerate(mejor_plan, 1):\n",
        "    print(f\"Día {i}: tomas {dia}\")\n",
        "print(f\"Tiempo de ejecución: {end - start:.4f} segundos\")"
      ],
      "execution_count": 4,
      "outputs": [
        {
          "output_type": "stream",
          "name": "stdout",
          "text": [
            "RESULTADO FUERZA BRUTA\n",
            "Tomas usadas: 10\n",
            "Mejor coste: 13\n",
            "Planificación por días:\n",
            "Día 1: tomas (0, 1, 5, 6)\n",
            "Día 2: tomas (2, 3, 4, 7, 8, 9)\n",
            "Tiempo de ejecución: 446.1591 segundos\n"
          ]
        }
      ]
    },
    {
      "cell_type": "markdown",
      "metadata": {
        "id": "tgrnsC2nkFa8"
      },
      "source": [
        "**Calcula la complejidad del algoritmo por fuerza bruta**"
      ]
    },
    {
      "cell_type": "markdown",
      "metadata": {
        "id": "9eUd3xwckP68"
      },
      "source": [
        "Respuesta"
      ]
    },
    {
      "cell_type": "code",
      "metadata": {
        "id": "rvZWwL-ckRST"
      },
      "source": [],
      "execution_count": null,
      "outputs": []
    },
    {
      "cell_type": "markdown",
      "metadata": {
        "id": "txbrmLmskReM"
      },
      "source": [
        "**(*)Diseña un algoritmo que mejore la complejidad del algortimo por fuerza bruta. Argumenta porque crees que mejora el algoritmo por fuerza bruta**"
      ]
    },
    {
      "cell_type": "markdown",
      "metadata": {
        "id": "hLrVwt5QkZPD"
      },
      "source": [
        "Se ha diseñado un resolucion con un algoritmo voraz sencillo.\n",
        "Se construye la solución día a día, añadiendo tomas en orden secuencial, sin retroceder.\n",
        "En el caso de fuerza bruta explora todas las posibles particiones creciendo de forma exponencial con el número de n, en cambio el algoritmo voraz al construir la solución paso a paso solo recorre una parte del espacio total, con complejidada polinómica n^2.\n",
        "\n"
      ]
    },
    {
      "cell_type": "code",
      "metadata": {
        "id": "m1eyM21Vkabg",
        "colab": {
          "base_uri": "https://localhost:8080/"
        },
        "outputId": "2efd21c0-78a9-4e50-bd10-c0098af6ee82"
      },
      "source": [
        "from collections import Counter\n",
        "\n",
        "# Parámetros\n",
        "N_TOMAS_USAR = 10\n",
        "MAX_TOMAS_DIA = 6\n",
        "\n",
        "# Dataset reducido para aplicar fuerza bruta\n",
        "tomas_actores = tomas_original[:N_TOMAS_USAR]\n",
        "N_TOMAS = len(tomas_actores)\n",
        "N_ACTORES = len(tomas_actores[0])\n",
        "\n",
        "\n",
        "tomas_actores = tomas_original\n",
        "\n",
        "def coste_dia(indice_tomas):\n",
        "    actores_presentes = [0] * N_ACTORES\n",
        "    for t in indice_tomas:\n",
        "        for a in range(N_ACTORES):\n",
        "            if tomas_actores[t][a] == 1:\n",
        "                actores_presentes[a] = 1\n",
        "    return sum(actores_presentes)\n",
        "\n",
        "# Cuenta cuántos actores comparten cada toma\n",
        "def actores_comunes(toma1, toma2):\n",
        "    return sum(a1 & a2 for a1, a2 in zip(tomas_actores[toma1], tomas_actores[toma2]))\n",
        "\n",
        "# Crear lista de tomas ordenadas por número de actores (descendente)\n",
        "tomas_ordenadas = sorted(range(N_TOMAS), key=lambda t: sum(tomas_actores[t]), reverse=True)\n",
        "\n",
        "plan_dias = []\n",
        "\n",
        "# Lista de tomas aún sin asignar\n",
        "tomas_sin_asignar = set(tomas_ordenadas)\n",
        "\n",
        "while tomas_sin_asignar:\n",
        "    dia_actual = []\n",
        "    # Tomamos la toma con más actores para empezar el día\n",
        "    toma = max(tomas_sin_asignar, key=lambda t: sum(tomas_actores[t]))\n",
        "    dia_actual.append(toma)\n",
        "    tomas_sin_asignar.remove(toma)\n",
        "\n",
        "    # Intentamos añadir tomas que compartan más actores con las tomas ya asignadas ese día\n",
        "    while len(dia_actual) < MAX_TOMAS_DIA and tomas_sin_asignar:\n",
        "        mejor_toma = None\n",
        "        mejor_compatibilidad = -1\n",
        "        for t in tomas_sin_asignar:\n",
        "            # Medimos compatibilidad con el día actual\n",
        "            compatibilidad = sum(actores_comunes(t, t2) for t2 in dia_actual)\n",
        "            if compatibilidad > mejor_compatibilidad:\n",
        "                mejor_compatibilidad = compatibilidad\n",
        "                mejor_toma = t\n",
        "        if mejor_toma is not None:\n",
        "            dia_actual.append(mejor_toma)\n",
        "            tomas_sin_asignar.remove(mejor_toma)\n",
        "        else:\n",
        "            break\n",
        "\n",
        "    plan_dias.append(dia_actual)\n",
        "\n",
        "# Calculamos coste total\n",
        "coste_total = sum(coste_dia(dia) for dia in plan_dias)\n",
        "\n",
        "# Mostrar resultados\n",
        "print(\"RESULTADO VORAZ MEJORADO\")\n",
        "print(\"Coste total (actores/días):\", coste_total)\n",
        "for i, dia in enumerate(plan_dias, 1):\n",
        "    print(f\"Día {i}: tomas {dia}\")\n"
      ],
      "execution_count": 23,
      "outputs": [
        {
          "output_type": "stream",
          "name": "stdout",
          "text": [
            "RESULTADO VORAZ MEJORADO\n",
            "Coste total (actores/días): 13\n",
            "Día 1: tomas [0, 5, 6, 8, 1, 4]\n",
            "Día 2: tomas [3, 2, 7, 9]\n"
          ]
        }
      ]
    },
    {
      "cell_type": "code",
      "source": [
        "from collections import Counter\n",
        "\n",
        "# Parámetros\n",
        "N_TOMAS_USAR = 30\n",
        "MAX_TOMAS_DIA = 6\n",
        "\n",
        "# Dataset reducido para aplicar fuerza bruta\n",
        "tomas_actores = tomas_original[:N_TOMAS_USAR]\n",
        "N_TOMAS = len(tomas_actores)\n",
        "N_ACTORES = len(tomas_actores[0])\n",
        "\n",
        "\n",
        "tomas_actores = tomas_original\n",
        "\n",
        "def coste_dia(indice_tomas):\n",
        "    actores_presentes = [0] * N_ACTORES\n",
        "    for t in indice_tomas:\n",
        "        for a in range(N_ACTORES):\n",
        "            if tomas_actores[t][a] == 1:\n",
        "                actores_presentes[a] = 1\n",
        "    return sum(actores_presentes)\n",
        "\n",
        "# Cuenta cuántos actores comparten cada toma\n",
        "def actores_comunes(toma1, toma2):\n",
        "    return sum(a1 & a2 for a1, a2 in zip(tomas_actores[toma1], tomas_actores[toma2]))\n",
        "\n",
        "# Crear lista de tomas ordenadas por número de actores (descendente)\n",
        "tomas_ordenadas = sorted(range(N_TOMAS), key=lambda t: sum(tomas_actores[t]), reverse=True)\n",
        "\n",
        "plan_dias = []\n",
        "\n",
        "# Lista de tomas aún sin asignar\n",
        "tomas_sin_asignar = set(tomas_ordenadas)\n",
        "\n",
        "while tomas_sin_asignar:\n",
        "    dia_actual = []\n",
        "    # Tomamos la toma con más actores para empezar el día\n",
        "    toma = max(tomas_sin_asignar, key=lambda t: sum(tomas_actores[t]))\n",
        "    dia_actual.append(toma)\n",
        "    tomas_sin_asignar.remove(toma)\n",
        "\n",
        "    # Intentamos añadir tomas que compartan más actores con las tomas ya asignadas ese día\n",
        "    while len(dia_actual) < MAX_TOMAS_DIA and tomas_sin_asignar:\n",
        "        mejor_toma = None\n",
        "        mejor_compatibilidad = -1\n",
        "        for t in tomas_sin_asignar:\n",
        "            # Medimos compatibilidad con el día actual\n",
        "            compatibilidad = sum(actores_comunes(t, t2) for t2 in dia_actual)\n",
        "            if compatibilidad > mejor_compatibilidad:\n",
        "                mejor_compatibilidad = compatibilidad\n",
        "                mejor_toma = t\n",
        "        if mejor_toma is not None:\n",
        "            dia_actual.append(mejor_toma)\n",
        "            tomas_sin_asignar.remove(mejor_toma)\n",
        "        else:\n",
        "            break\n",
        "\n",
        "    plan_dias.append(dia_actual)\n",
        "\n",
        "# Calculamos coste total\n",
        "coste_total = sum(coste_dia(dia) for dia in plan_dias)\n",
        "\n",
        "# Mostrar resultados\n",
        "print(\"RESULTADO VORAZ MEJORADO\")\n",
        "print(\"Coste total (actores/días):\", coste_total)\n",
        "for i, dia in enumerate(plan_dias, 1):\n",
        "    print(f\"Día {i}: tomas {dia}\")\n"
      ],
      "metadata": {
        "colab": {
          "base_uri": "https://localhost:8080/"
        },
        "id": "K_SXr4Jd9oH8",
        "outputId": "383d0a9a-e3a2-4008-8891-5ccd855f43bd"
      },
      "execution_count": 27,
      "outputs": [
        {
          "output_type": "stream",
          "name": "stdout",
          "text": [
            "RESULTADO VORAZ MEJORADO\n",
            "Coste total (actores/días): 32\n",
            "Día 1: tomas [0, 5, 6, 10, 11, 21]\n",
            "Día 2: tomas [3, 14, 2, 7, 9, 8]\n",
            "Día 3: tomas [19, 1, 12, 25, 26, 28]\n",
            "Día 4: tomas [24, 4, 15, 27, 29, 13]\n",
            "Día 5: tomas [16, 18, 22, 17, 23, 20]\n"
          ]
        }
      ]
    },
    {
      "cell_type": "markdown",
      "metadata": {
        "id": "eGDB4K6uk1iN"
      },
      "source": [
        "**(*)Calcula la complejidad del algoritmo**\n",
        "\n",
        "En el peor caso, el algoritmo voraz debe evaluar muchas tomas en cada paso, y para cada toma calcula el coste incremental, recorriendo los actores asociados.\n",
        "El número máximo de días es aproximadamente n/k, donde k es el máximo de tomas por día.\n",
        "En cada día, se pueden revisar hasta n tomas para seleccionar las que encajan.\n",
        "Por tanto, la complejidad en el peor caso es del orden n^2.\n",
        "\n",
        "En el mejor caso, por ejemplo si las tomas se pueden agrupar fácilmente sin mucho solapamiento de actores, el algoritmo podría asignar rápidamente grupos compactos y reducir el número de evaluaciones en pasos posteriores."
      ]
    },
    {
      "cell_type": "markdown",
      "metadata": {
        "id": "3M6QjTsSkmYe"
      },
      "source": [
        "**Según el problema (y tenga sentido), diseña un juego de datos de entrada aleatorios**"
      ]
    },
    {
      "cell_type": "markdown",
      "metadata": {
        "id": "Jc3_OlyNkvjZ"
      },
      "source": [
        "Respuesta"
      ]
    },
    {
      "cell_type": "code",
      "metadata": {
        "id": "sJ-N2etjkyWc",
        "colab": {
          "base_uri": "https://localhost:8080/"
        },
        "outputId": "330b97e6-0aaa-43b7-defc-db7c393b95c3"
      },
      "source": [
        "import random\n",
        "\n",
        "def generar_tomas_aleatorias(n_tomas, n_actores, prob_presencia=0.3, seed=None):\n",
        "    if seed is not None:\n",
        "        random.seed(seed)\n",
        "    tomas = []\n",
        "    for _ in range(n_tomas):\n",
        "        toma = [1 if random.random() < prob_presencia else 0 for _ in range(n_actores)]\n",
        "        tomas.append(toma)\n",
        "    return tomas\n",
        "\n",
        "# Parámetros ejemplo\n",
        "N_TOMAS = 100\n",
        "N_ACTORES = 20\n",
        "PROB_ACTOR_PRESENTE = 0.3\n",
        "\n",
        "tomas_aleatorias = generar_tomas_aleatorias(N_TOMAS, N_ACTORES, PROB_ACTOR_PRESENTE, seed=42)\n",
        "\n",
        "# Mostrar algunas tomas\n",
        "for i, toma in enumerate(tomas_aleatorias[:5], 1):\n",
        "    print(f\"Toma {i}: {toma}\")"
      ],
      "execution_count": 27,
      "outputs": [
        {
          "output_type": "stream",
          "name": "stdout",
          "text": [
            "Toma 1: [0, 1, 1, 1, 0, 0, 0, 1, 0, 1, 1, 0, 1, 1, 0, 0, 1, 0, 0, 1]\n",
            "Toma 2: [0, 0, 0, 1, 0, 0, 1, 1, 0, 0, 0, 0, 0, 0, 0, 0, 0, 0, 0, 0]\n",
            "Toma 3: [0, 1, 1, 1, 1, 1, 1, 1, 0, 0, 0, 1, 1, 0, 0, 0, 1, 0, 1, 0]\n",
            "Toma 4: [0, 0, 0, 0, 0, 0, 1, 1, 0, 1, 1, 0, 0, 0, 0, 0, 0, 0, 1, 1]\n",
            "Toma 5: [0, 1, 0, 0, 0, 1, 0, 0, 1, 1, 1, 0, 0, 0, 1, 0, 0, 0, 0, 0]\n"
          ]
        }
      ]
    },
    {
      "cell_type": "markdown",
      "metadata": {
        "id": "zy5ZROmjlGo1"
      },
      "source": [
        "**Aplica el algoritmo al juego de datos generado**"
      ]
    },
    {
      "cell_type": "markdown",
      "metadata": {
        "id": "_Cmj-PVylMsa"
      },
      "source": [
        "Respuesta"
      ]
    },
    {
      "cell_type": "code",
      "metadata": {
        "id": "Jkx8GeiYlUz1",
        "colab": {
          "base_uri": "https://localhost:8080/"
        },
        "outputId": "d541dcc0-1152-4e4b-be1d-a32baa351de9"
      },
      "source": [
        "# Función para calcular el coste de un día (número de actores)\n",
        "def coste_dia(indice_tomas):\n",
        "    actores_presentes = [0] * N_ACTORES\n",
        "    for t in indice_tomas:\n",
        "        for a in range(N_ACTORES):\n",
        "            if tomas_aleatorias[t][a] == 1:\n",
        "                actores_presentes[a] = 1\n",
        "    return sum(actores_presentes)\n",
        "\n",
        "# Algoritmo greedy de aproximación\n",
        "def algoritmo_greedy(tomas_aleatorias, max_tomas_dia):\n",
        "    tomas_sin_asignar = set(range(len(tomas_aleatorias)))\n",
        "    plan = []\n",
        "\n",
        "    while tomas_sin_asignar:\n",
        "        dia = []\n",
        "        actores_presentes = set()\n",
        "\n",
        "        # Intentamos llenar el día agregando tomas una a una\n",
        "        for t in list(tomas_sin_asignar):\n",
        "            if len(dia) >= max_tomas_dia:\n",
        "                break\n",
        "\n",
        "            # Calcular nuevos actores que se agregarían si incluimos esta toma\n",
        "            nuevos_actores = [a for a, presente in enumerate(tomas_aleatorias[t]) if presente and a not in actores_presentes]\n",
        "\n",
        "            # Si agregar esta toma no aumenta mucho el coste, la añadimos\n",
        "            # Aquí simplemente la añadimos si cabe; podrías mejorar la heurística\n",
        "            dia.append(t)\n",
        "            actores_presentes.update(nuevos_actores)\n",
        "            tomas_sin_asignar.remove(t)\n",
        "\n",
        "        plan.append(dia)\n",
        "\n",
        "    return plan\n",
        "\n",
        "\n",
        "# Medición de tiempo y ejecución\n",
        "start = time.time()\n",
        "plan_greedy = algoritmo_greedy(tomas_aleatorias, MAX_TOMAS_DIA)\n",
        "\n",
        "# Calcular coste total\n",
        "coste_total = sum(coste_dia(dia) for dia in plan_greedy)\n",
        "end = time.time()\n",
        "\n",
        "print(\"RESULTADO ALGORITMO GREEDY\")\n",
        "print(\"Tomas usadas:\", N_TOMAS)\n",
        "print(\"Coste total:\", coste_total)\n",
        "print(\"Planificación por días:\")\n",
        "for i, dia in enumerate(plan_greedy, 1):\n",
        "    print(f\"Día {i}: tomas {dia}\")\n",
        "print(f\"Tiempo de ejecución: {end - start:.4f} segundos\")"
      ],
      "execution_count": 28,
      "outputs": [
        {
          "output_type": "stream",
          "name": "stdout",
          "text": [
            "RESULTADO ALGORITMO GREEDY\n",
            "Tomas usadas: 100\n",
            "Coste total: 291\n",
            "Planificación por días:\n",
            "Día 1: tomas [0, 1, 2, 3, 4, 5]\n",
            "Día 2: tomas [6, 7, 8, 9, 10, 11]\n",
            "Día 3: tomas [12, 13, 14, 15, 16, 17]\n",
            "Día 4: tomas [18, 19, 20, 21, 22, 23]\n",
            "Día 5: tomas [24, 25, 26, 27, 28, 29]\n",
            "Día 6: tomas [30, 31, 32, 33, 34, 35]\n",
            "Día 7: tomas [36, 37, 38, 39, 40, 41]\n",
            "Día 8: tomas [42, 43, 44, 45, 46, 47]\n",
            "Día 9: tomas [48, 49, 50, 51, 52, 53]\n",
            "Día 10: tomas [54, 55, 56, 57, 58, 59]\n",
            "Día 11: tomas [60, 61, 62, 63, 64, 65]\n",
            "Día 12: tomas [66, 67, 68, 69, 70, 71]\n",
            "Día 13: tomas [72, 73, 74, 75, 76, 77]\n",
            "Día 14: tomas [78, 79, 80, 81, 82, 83]\n",
            "Día 15: tomas [84, 85, 86, 87, 88, 89]\n",
            "Día 16: tomas [90, 91, 92, 93, 94, 95]\n",
            "Día 17: tomas [96, 97, 98, 99]\n",
            "Tiempo de ejecución: 0.0008 segundos\n"
          ]
        }
      ]
    },
    {
      "cell_type": "markdown",
      "metadata": {
        "id": "eTFWUJQrtGcv"
      },
      "source": [
        "Enumera las referencias que has utilizado(si ha sido necesario) para llevar a cabo el trabajo"
      ]
    },
    {
      "cell_type": "markdown",
      "metadata": {
        "id": "YKQ_mRBttWsP"
      },
      "source": [
        "Respuesta"
      ]
    },
    {
      "cell_type": "markdown",
      "metadata": {
        "id": "kAkDPUyRtYyH"
      },
      "source": [
        "Describe brevemente las lineas de como crees que es posible avanzar en el estudio del problema. Ten en cuenta incluso posibles variaciones del problema y/o variaciones al alza del tamaño"
      ]
    },
    {
      "cell_type": "markdown",
      "metadata": {
        "id": "IE0uZmo-tZu-"
      },
      "source": [
        "Respuesta"
      ]
    }
  ]
}