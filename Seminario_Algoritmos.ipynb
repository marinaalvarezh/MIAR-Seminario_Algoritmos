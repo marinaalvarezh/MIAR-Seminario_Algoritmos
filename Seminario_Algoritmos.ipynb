{
  "nbformat": 4,
  "nbformat_minor": 0,
  "metadata": {
    "colab": {
      "provenance": [],
      "include_colab_link": true
    },
    "kernelspec": {
      "name": "python3",
      "display_name": "Python 3"
    }
  },
  "cells": [
    {
      "cell_type": "markdown",
      "metadata": {
        "id": "view-in-github",
        "colab_type": "text"
      },
      "source": [
        "<a href=\"https://colab.research.google.com/github/marinaalvarezh/MIAR-Seminario_Algoritmos/blob/developer%2Falgoritmo/Seminario_Algoritmos.ipynb\" target=\"_parent\"><img src=\"https://colab.research.google.com/assets/colab-badge.svg\" alt=\"Open In Colab\"/></a>"
      ]
    },
    {
      "cell_type": "markdown",
      "metadata": {
        "id": "hVbXYX-RfPWh"
      },
      "source": [
        "# Algoritmos de optimización - Seminario<br>\n",
        "Nombre y Apellidos:  Marina Álvarez Hornero <br>\n",
        "Url: https://github.com/marinaalvarezh/MIAR-Seminario_Algoritmos<br>\n",
        "Problema:\n",
        "> 1. Sesiones de doblaje <br>\n",
        "\n",
        "Descripción del problema:\n",
        "\n",
        "Se precisa coordinar el doblaje de una película. Los actores del doblaje deben coincidir en las\n",
        "tomas en las que sus personajes aparecen juntos en las diferentes tomas. Los actores de\n",
        "doblaje cobran todos la misma cantidad por cada día que deben desplazarse hasta el estudio de\n",
        "grabación independientemente del número de tomas que se graben. No es posible grabar más\n",
        "de 6 tomas por día. El objetivo es planificar las sesiones por día de manera que el gasto por los\n",
        "servicios de los actores de doblaje sea el menor posible. Los datos son:\n",
        "\n",
        "Número de actores: 10\n",
        "Número de tomas : 30\n",
        "Actores/Tomas : https://bit.ly/36D8IuK\n",
        "- 1 indica que el actor participa en la toma\n",
        "- 0 en caso contrario\n",
        "\n",
        "\n",
        "\n",
        "\n",
        "\n",
        "                                        "
      ]
    },
    {
      "cell_type": "code",
      "metadata": {
        "id": "AiskKkzZfy4e"
      },
      "source": [],
      "execution_count": null,
      "outputs": []
    },
    {
      "cell_type": "markdown",
      "metadata": {
        "id": "3_-exlrTgLd-"
      },
      "source": [
        "**(*)¿Cuantas posibilidades hay sin tener en cuenta las restricciones?**<br>\n",
        "\n",
        "Sin tener en cuenta las restricciones, lo vamos a analizar en el mejor y peor caso. Siendo n = número de tomas a asignar y siendo m = número de días disponibles.\n",
        "\n",
        "En el peor caso, el algoritmo recorre todas las combinaciones posibles, cada toma de las n tomas, se le puede asignar cualquiera de los m dias. El orden de complejidad seria exponencial m^n. El tamaño de tomas n hace que el número de soluciones a explorar sea mucho mayor.\n",
        "\n",
        "En el mejor caso, el algoritmo encontraría la solución en la primera asignación por ejemplo, entonces la complejidad poddría ser lineal o polinomial.\n",
        "\n",
        "**¿Cuantas posibilidades hay teniendo en cuenta todas las restricciones.**<br>\n",
        "\n",
        "Al aplicar restricciones el algortimos disminuye su orden de complejidad, para al restricción de 6 tomas al día, sigue siendo de orden exponencial pero al tener un n fijo aumenta mucho mas lentamente en función del tamaño de la muestra.\n",
        "\n",
        "\n"
      ]
    },
    {
      "cell_type": "markdown",
      "metadata": {
        "id": "dzynfVJahHoY"
      },
      "source": [
        "**Modelo para el espacio de soluciones**<br>\n",
        "(*) ¿Cual es la estructura de datos que mejor se adapta al problema? Argumentalo.(Es posible que hayas elegido una al principio y veas la necesidad de cambiar, arguentalo)\n"
      ]
    },
    {
      "cell_type": "markdown",
      "metadata": {
        "id": "xFIJrOwKi2Ti"
      },
      "source": [
        "Respuesta"
      ]
    },
    {
      "cell_type": "code",
      "metadata": {
        "id": "38c-7-ejhJmA"
      },
      "source": [
        "#cual es la estrucutura de datos y por qué esa es la mejor estructura de datos"
      ],
      "execution_count": null,
      "outputs": []
    },
    {
      "cell_type": "markdown",
      "metadata": {
        "id": "7Z9U2W7bi-XS"
      },
      "source": [
        "Según el modelo para el espacio de soluciones<br>\n",
        "(*)¿Cual es la función objetivo?\n",
        "\n",
        "(*)¿Es un problema de maximización o minimización?"
      ]
    },
    {
      "cell_type": "markdown",
      "metadata": {
        "id": "hBalWLM7j1_d"
      },
      "source": [
        "Respuesta"
      ]
    },
    {
      "cell_type": "code",
      "metadata": {
        "id": "pDA-rg3Gj5Lz"
      },
      "source": [],
      "execution_count": null,
      "outputs": []
    },
    {
      "cell_type": "markdown",
      "metadata": {
        "id": "rlnTYgY1j6I2"
      },
      "source": [
        "**Diseña un algoritmo para resolver el problema por fuerza bruta**"
      ]
    },
    {
      "cell_type": "markdown",
      "metadata": {
        "id": "70rDgxYXkC8r"
      },
      "source": [
        "Respuesta"
      ]
    },
    {
      "cell_type": "code",
      "metadata": {
        "id": "CJb5sQ0qkENy",
        "colab": {
          "base_uri": "https://localhost:8080/"
        },
        "outputId": "61a17441-506b-4e4a-c409-eb7dba50acdc"
      },
      "source": [
        "from itertools import combinations\n",
        "import time\n",
        "\n",
        "# Dataset original\n",
        "#tomas_original[toma][actor]\n",
        "tomas_original = [\n",
        "[1,1,1,1,1,0,0,0,0,0],\n",
        "[0,0,1,1,1,0,0,0,0,0],\n",
        "[0,1,0,0,1,0,1,0,0,0],\n",
        "[1,1,0,0,0,0,1,1,0,0],\n",
        "[0,1,0,1,0,0,0,1,0,0],\n",
        "[1,1,0,1,1,0,0,0,0,0],\n",
        "[1,1,0,1,1,0,0,0,0,0],\n",
        "[1,1,0,0,0,1,0,0,0,0],\n",
        "[1,1,0,1,0,0,0,0,0,0],\n",
        "[1,1,0,0,0,1,0,0,1,0],\n",
        "[1,1,1,0,1,0,0,1,0,0],\n",
        "[1,1,1,1,0,1,0,0,0,0],\n",
        "[1,0,0,1,1,0,0,0,0,0],\n",
        "[1,0,1,0,0,1,0,0,0,0],\n",
        "[1,1,0,0,0,0,1,0,0,0],\n",
        "[0,0,0,1,0,0,0,0,0,1],\n",
        "[1,0,1,0,0,0,0,0,0,0],\n",
        "[0,0,1,0,0,1,0,0,0,0],\n",
        "[1,0,1,0,0,0,0,0,0,0],\n",
        "[1,0,1,1,1,0,0,0,0,0],\n",
        "[0,0,0,0,0,1,0,1,0,0],\n",
        "[1,1,1,1,0,0,0,0,0,0],\n",
        "[1,0,1,0,0,0,0,0,0,0],\n",
        "[0,0,1,0,0,1,0,0,0,0],\n",
        "[1,1,0,1,0,0,0,0,0,1],\n",
        "[1,0,1,0,1,0,0,0,1,0],\n",
        "[0,0,0,1,1,0,0,0,0,0],\n",
        "[1,0,0,1,0,0,0,0,0,0],\n",
        "[1,0,0,0,1,1,0,0,0,0],\n",
        "[1,0,0,1,0,0,0,0,0,0]\n",
        "]\n",
        "\n",
        "##################################\n",
        "### FUERZA BRUTA PARA 10 TOMAS ###\n",
        "##################################\n",
        "\n",
        "#Parámetros\n",
        "N_TOMAS_USAR = 10\n",
        "MAX_TOMAS_DIA = 6\n",
        "\n",
        "# Dataset reducido para aplicar fuerza bruta\n",
        "tomas_actores = tomas_original[:N_TOMAS_USAR]\n",
        "N_TOMAS = len(tomas_actores)\n",
        "N_ACTORES = len(tomas_actores[0])\n",
        "\n",
        "# Función coste de un día, devuelve el numero de actores que estan presentes en un dia (funcion que se quiere minimizar)\n",
        "def coste_dia(indice_tomas):\n",
        "    actores_presentes = [0] * N_ACTORES\n",
        "    for t in indice_tomas:\n",
        "        for a in range(N_ACTORES):\n",
        "            if tomas_actores[t][a] == 1:\n",
        "                actores_presentes[a] = 1\n",
        "    return sum(actores_presentes)\n",
        "\n",
        "#### Resolucion algoritmo por fuerza bruta pura ####\n",
        "\n",
        "def backtracking(tomas_restantes, plan_actual, coste_actual, mejor_coste, mejor_plan):\n",
        "    #Se compara la mejor solucion cuando no quedan tomas por asignar\n",
        "    if not tomas_restantes:\n",
        "        if coste_actual < mejor_coste:\n",
        "            return coste_actual, list(plan_actual)\n",
        "        else:\n",
        "            return mejor_coste, mejor_plan\n",
        "\n",
        "\n",
        "    for size in range(1, min(MAX_TOMAS_DIA, len(tomas_restantes)) + 1):\n",
        "        for comb in combinations(tomas_restantes, size):    #genera todas las posibles combinaciones para cada dia\n",
        "            nuevas_restantes = list(tomas_restantes)        #se copia la lista de las tomas que faltan por asignar\n",
        "            for t in comb:\n",
        "                nuevas_restantes.remove(t)                  #se eliminan las tomas que se acaban de asignar\n",
        "            c = coste_dia(comb)                             #se calcula el coste del dia coon esas tomas\n",
        "            plan_actual.append(comb)                        #se añade la combinacion al plan actual\n",
        "            mejor_coste, mejor_plan = backtracking(nuevas_restantes, plan_actual, coste_actual + c, mejor_coste, mejor_plan) #se llama recursivamente a esta funcion\n",
        "            plan_actual.pop()\n",
        "\n",
        "    return mejor_coste, mejor_plan\n",
        "\n",
        "# Ejecución del algoritmo y medición de tiempo\n",
        "start = time.time()\n",
        "mejor_coste, mejor_plan = backtracking(list(range(N_TOMAS)), [], 0, float(\"inf\"), None)\n",
        "end = time.time()\n",
        "\n",
        "print(\"RESULTADO FUERZA BRUTA\")\n",
        "print(\"Tomas usadas:\", N_TOMAS)\n",
        "print(\"Mejor coste:\", mejor_coste)\n",
        "print(\"Planificación por días:\")\n",
        "for i, dia in enumerate(mejor_plan, 1):\n",
        "    print(f\"Día {i}: tomas {dia}\")\n",
        "print(f\"Tiempo de ejecución: {end - start:.4f} segundos\")"
      ],
      "execution_count": 4,
      "outputs": [
        {
          "output_type": "stream",
          "name": "stdout",
          "text": [
            "RESULTADO FUERZA BRUTA\n",
            "Tomas usadas: 10\n",
            "Mejor coste: 13\n",
            "Planificación por días:\n",
            "Día 1: tomas (0, 1, 5, 6)\n",
            "Día 2: tomas (2, 3, 4, 7, 8, 9)\n",
            "Tiempo de ejecución: 449.2172 segundos\n"
          ]
        }
      ]
    },
    {
      "cell_type": "markdown",
      "metadata": {
        "id": "tgrnsC2nkFa8"
      },
      "source": [
        "**Calcula la complejidad del algoritmo por fuerza bruta**"
      ]
    },
    {
      "cell_type": "markdown",
      "metadata": {
        "id": "9eUd3xwckP68"
      },
      "source": [
        "Respuesta"
      ]
    },
    {
      "cell_type": "code",
      "metadata": {
        "id": "rvZWwL-ckRST"
      },
      "source": [],
      "execution_count": null,
      "outputs": []
    },
    {
      "cell_type": "markdown",
      "metadata": {
        "id": "txbrmLmskReM"
      },
      "source": [
        "**(*)Diseña un algoritmo que mejore la complejidad del algortimo por fuerza bruta. Argumenta porque crees que mejora el algoritmo por fuerza bruta**"
      ]
    },
    {
      "cell_type": "markdown",
      "metadata": {
        "id": "hLrVwt5QkZPD"
      },
      "source": [
        "Se añade poda a la resolución del algortimo por fuerza bruta, la fuerza bruta explora todas las soluciones sin excepción mientras que si se aplica poda, se descarta esa rama entera sin cuando detecta que no puede mejorara la solucion actual.\n",
        "Evita calcular el coste de los días siguientes y generar combinaciones para tomas restantes.\n",
        "\n",
        "\n"
      ]
    },
    {
      "cell_type": "markdown",
      "metadata": {
        "id": "eGDB4K6uk1iN"
      },
      "source": [
        "**(*)Calcula la complejidad del algoritmo**\n",
        "\n",
        "En el peor caso la poda no descartaría ninguna rama, por ejemplo si la mejor solución está al final o todas las oluciones tinen costes muy similiares. Por tanto, seguiría siendo de orden explonencial.\n",
        "\n",
        "En el mejor caso, se puede reducir drásticamente el número de soluciones a explorar, dependiendo de la calidad de la primera solución encontrada y de cómo cre el coste parcial de las ramas."
      ]
    },
    {
      "cell_type": "code",
      "metadata": {
        "id": "m1eyM21Vkabg",
        "colab": {
          "base_uri": "https://localhost:8080/"
        },
        "outputId": "ac33752e-d693-4fa4-e30d-38c025901b67"
      },
      "source": [
        "\n",
        "###########################################\n",
        "### FUERZA BRUTA CON PODA PARA 10 TOMAS ###\n",
        "###########################################\n",
        "\n",
        "#Parámetros\n",
        "N_TOMAS_USAR = 10\n",
        "MAX_TOMAS_DIA = 6\n",
        "\n",
        "# Dataset reducido para aplicar fuerza bruta\n",
        "tomas_actores = tomas_original[:N_TOMAS_USAR]\n",
        "N_TOMAS = len(tomas_actores)\n",
        "N_ACTORES = len(tomas_actores[0])\n",
        "\n",
        "# Función coste de un día, devuelve el numero de actores que estan presentes en un dia (funcion que se quiere minimizar)\n",
        "def coste_dia(indice_tomas):\n",
        "    actores_presentes = [0] * N_ACTORES\n",
        "    for t in indice_tomas:\n",
        "        for a in range(N_ACTORES):\n",
        "            if tomas_actores[t][a] == 1:\n",
        "                actores_presentes[a] = 1\n",
        "    return sum(actores_presentes)\n",
        "\n",
        "#Algoritmo de fuerza bruta aplicando poda, si la solución encontras no mejor la actual, se descarta esa rama\n",
        "def backtracking_poda(tomas_restantes, plan_actual, coste_actual, mejor_coste, mejor_plan):\n",
        "    if not tomas_restantes:\n",
        "        if coste_actual < mejor_coste:\n",
        "            return coste_actual, list(plan_actual)\n",
        "        else:\n",
        "            return mejor_coste, mejor_plan\n",
        "\n",
        "    for size in range(1, min(MAX_TOMAS_DIA, len(tomas_restantes)) + 1):\n",
        "        for comb in combinations(tomas_restantes, size):\n",
        "            nuevas_restantes = list(tomas_restantes)\n",
        "            for t in comb:\n",
        "                nuevas_restantes.remove(t)\n",
        "            c = coste_dia(comb)\n",
        "\n",
        "            # Poda: si el coste parcial supera el mejor coste, descartamos\n",
        "            if coste_actual + c >= mejor_coste:\n",
        "                continue\n",
        "\n",
        "            plan_actual.append(comb)\n",
        "            mejor_coste, mejor_plan = backtracking_poda(nuevas_restantes, plan_actual, coste_actual + c, mejor_coste, mejor_plan)\n",
        "            plan_actual.pop()\n",
        "\n",
        "    return mejor_coste, mejor_plan\n",
        "\n",
        "# Ejecución del algoritmo y medición de tiempo\n",
        "start = time.time()\n",
        "mejor_coste, mejor_plan = backtracking_poda(list(range(N_TOMAS)), [], 0, float(\"inf\"), None)\n",
        "end = time.time()\n",
        "\n",
        "print(\"RESULTADO FUERZA BRUTA CON PODA\")\n",
        "print(\"Tomas usadas:\", N_TOMAS)\n",
        "print(\"Mejor coste:\", mejor_coste)\n",
        "print(\"Planificación por días:\")\n",
        "for i, dia in enumerate(mejor_plan, 1):\n",
        "    print(f\"Día {i}: tomas {dia}\")\n",
        "print(f\"Tiempo de ejecución: {end - start:.4f} segundos\")"
      ],
      "execution_count": 7,
      "outputs": [
        {
          "output_type": "stream",
          "name": "stdout",
          "text": [
            "RESULTADO FUERZA BRUTA CON PODA\n",
            "Tomas usadas: 10\n",
            "Mejor coste: 13\n",
            "Planificación por días:\n",
            "Día 1: tomas (0, 1, 5, 6)\n",
            "Día 2: tomas (2, 3, 4, 7, 8, 9)\n",
            "Tiempo de ejecución: 10.5266 segundos\n"
          ]
        }
      ]
    },
    {
      "cell_type": "markdown",
      "metadata": {
        "id": "3M6QjTsSkmYe"
      },
      "source": [
        "**Según el problema (y tenga sentido), diseña un juego de datos de entrada aleatorios**"
      ]
    },
    {
      "cell_type": "markdown",
      "metadata": {
        "id": "Jc3_OlyNkvjZ"
      },
      "source": [
        "Respuesta"
      ]
    },
    {
      "cell_type": "code",
      "metadata": {
        "id": "sJ-N2etjkyWc"
      },
      "source": [],
      "execution_count": null,
      "outputs": []
    },
    {
      "cell_type": "markdown",
      "metadata": {
        "id": "zy5ZROmjlGo1"
      },
      "source": [
        "**Aplica el algoritmo al juego de datos generado**"
      ]
    },
    {
      "cell_type": "markdown",
      "metadata": {
        "id": "_Cmj-PVylMsa"
      },
      "source": [
        "Respuesta"
      ]
    },
    {
      "cell_type": "code",
      "metadata": {
        "id": "Jkx8GeiYlUz1"
      },
      "source": [],
      "execution_count": null,
      "outputs": []
    },
    {
      "cell_type": "markdown",
      "metadata": {
        "id": "eTFWUJQrtGcv"
      },
      "source": [
        "Enumera las referencias que has utilizado(si ha sido necesario) para llevar a cabo el trabajo"
      ]
    },
    {
      "cell_type": "markdown",
      "metadata": {
        "id": "YKQ_mRBttWsP"
      },
      "source": [
        "Respuesta"
      ]
    },
    {
      "cell_type": "markdown",
      "metadata": {
        "id": "kAkDPUyRtYyH"
      },
      "source": [
        "Describe brevemente las lineas de como crees que es posible avanzar en el estudio del problema. Ten en cuenta incluso posibles variaciones del problema y/o variaciones al alza del tamaño"
      ]
    },
    {
      "cell_type": "markdown",
      "metadata": {
        "id": "IE0uZmo-tZu-"
      },
      "source": [
        "Respuesta"
      ]
    }
  ]
}